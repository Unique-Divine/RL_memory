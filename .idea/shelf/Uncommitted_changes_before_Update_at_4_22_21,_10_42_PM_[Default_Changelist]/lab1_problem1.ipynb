{
 "cells": [
  {
   "cell_type": "markdown",
   "metadata": {},
   "source": [
    "# Lab 1: Problem 1 (MDP algorithms: tabular Q-learning)"
   ]
  },
  {
   "cell_type": "markdown",
   "metadata": {},
   "source": [
    "*OpenAI gym FrozenLake environment*\n",
    "\n",
    "Winter is here. You and your friends were tossing around a frisbee at the park\n",
    "    when you made a wild throw that left the frisbee out in the middle of the lake.\n",
    "    The water is mostly frozen, but there are a few holes where the ice has melted.\n",
    "    If you step into one of those holes, you'll fall into the freezing water.\n",
    "    At this time, there's an international frisbee shortage, so it's absolutely imperative that\n",
    "    you navigate across the lake and retrieve the disc.\n",
    "    However, the ice is slippery, so you won't always move in the direction you intend.\n",
    "    The surface is described using a grid like the following\n",
    "\n",
    "        SFFF\n",
    "        FHFH\n",
    "        FFFH\n",
    "        HFFG\n",
    "\n",
    "    S : starting point, safe\n",
    "    F : frozen surface, safe\n",
    "    H : hole, fall to your doom\n",
    "    G : goal, where the frisbee is located\n",
    "\n",
    "    The episode ends when you reach the goal or fall in a hole.\n",
    "    You receive a reward of 1 if you reach the goal, and zero otherwise.\n",
    "    \n",
    "    FrozenLake-v0 defines \"solving\" as getting average reward of 0.78 over 100 consecutive trials.\n"
   ]
  },
  {
   "cell_type": "code",
   "execution_count": 1,
   "metadata": {},
   "outputs": [
    {
     "output_type": "error",
     "ename": "ModuleNotFoundError",
     "evalue": "No module named 'wandb'",
     "traceback": [
      "\u001b[1;31m---------------------------------------------------------------------------\u001b[0m",
      "\u001b[1;31mModuleNotFoundError\u001b[0m                       Traceback (most recent call last)",
      "\u001b[1;32m<ipython-input-1-63b30f0c713c>\u001b[0m in \u001b[0;36m<module>\u001b[1;34m\u001b[0m\n\u001b[0;32m      1\u001b[0m \u001b[1;31m#wandb set up for logging runs online and moving them to the leaderboard\u001b[0m\u001b[1;33m\u001b[0m\u001b[1;33m\u001b[0m\u001b[1;33m\u001b[0m\u001b[0m\n\u001b[1;32m----> 2\u001b[1;33m \u001b[1;32mimport\u001b[0m \u001b[0mwandb\u001b[0m\u001b[1;33m\u001b[0m\u001b[1;33m\u001b[0m\u001b[0m\n\u001b[0m\u001b[0;32m      3\u001b[0m \u001b[0mwandb\u001b[0m\u001b[1;33m.\u001b[0m\u001b[0mlogin\u001b[0m\u001b[1;33m(\u001b[0m\u001b[1;33m)\u001b[0m\u001b[1;33m\u001b[0m\u001b[1;33m\u001b[0m\u001b[0m\n\u001b[0;32m      4\u001b[0m \u001b[0mrun\u001b[0m\u001b[1;33m=\u001b[0m\u001b[0mwandb\u001b[0m\u001b[1;33m.\u001b[0m\u001b[0minit\u001b[0m\u001b[1;33m(\u001b[0m\u001b[0mproject\u001b[0m\u001b[1;33m=\u001b[0m\u001b[1;34m\"lab1\"\u001b[0m\u001b[1;33m,\u001b[0m \u001b[0mtags\u001b[0m\u001b[1;33m=\u001b[0m\u001b[1;33m[\u001b[0m\u001b[1;34m\"problem1\"\u001b[0m\u001b[1;33m]\u001b[0m\u001b[1;33m,\u001b[0m \u001b[0mentity\u001b[0m\u001b[1;33m=\u001b[0m\u001b[1;34m\"ieor-4575\"\u001b[0m\u001b[1;33m)\u001b[0m\u001b[1;33m\u001b[0m\u001b[1;33m\u001b[0m\u001b[0m\n",
      "\u001b[1;31mModuleNotFoundError\u001b[0m: No module named 'wandb'"
     ]
    }
   ],
   "source": [
    "#wandb set up for logging runs online and moving them to the leaderboard\n",
    "import wandb\n",
    "wandb.login()\n",
    "run=wandb.init(project=\"lab1\", tags=[\"problem1\"], entity=\"ieor-4575\")"
   ]
  },
  {
   "cell_type": "code",
   "execution_count": 2,
   "metadata": {},
   "outputs": [
    {
     "data": {
      "text/plain": [
       "[0]"
      ]
     },
     "execution_count": 2,
     "metadata": {},
     "output_type": "execute_result"
    }
   ],
   "source": [
    "## DO NOT CHANGE THIS CELL\n",
    "import numpy as np\n",
    "import gym\n",
    "env=gym.make('FrozenLake-v0')\n",
    "env.seed(0)"
   ]
  },
  {
   "cell_type": "markdown",
   "metadata": {},
   "source": [
    "For proper accounting rewards while you learn, we build a wrapper around env.step() and env.reset(). In an episode, every time you take an action the reward will be appended to the reward of the episode, and whenever the environment is reset (at the end of an epsiode), the episode reward is reset to 0. "
   ]
  },
  {
   "cell_type": "code",
   "execution_count": 3,
   "metadata": {},
   "outputs": [],
   "source": [
    "## DO NOT CHANGE THIS CELL\n",
    "#wrapper for accounting rewards\n",
    "rEpisode=0\n",
    "rList=[]\n",
    "fixedWindow=100\n",
    "movingAverage=0\n",
    "\n",
    "def reset_decorate(func):\n",
    "    def func_wrapper():\n",
    "        global rList\n",
    "        global movingAverage\n",
    "        global rEpisode\n",
    "        global fixedwindow\n",
    "        rList.append(rEpisode)\n",
    "        if len(rList) >= fixedWindow:\n",
    "            movingAverage=np.mean(rList[len(rList)-fixedWindow:len(rList)-1])\n",
    "        rEpisode=0\n",
    "        return(func())\n",
    "    return func_wrapper\n",
    "\n",
    "env.reset = reset_decorate(env.reset)\n",
    "\n",
    "def step_decorate(func):\n",
    "    def func_wrapper(action):\n",
    "        global rEpisode\n",
    "        s1, r, d, other = func(action)\n",
    "        rEpisode+=r\n",
    "        return(s1, r, d, other)\n",
    "    return func_wrapper\n",
    "\n",
    "env.step = step_decorate(env.step)\n",
    "\n",
    "def init():\n",
    "    rEpisode=0\n",
    "    rList=[]\n",
    "    movingAverage=0\n",
    "    return"
   ]
  },
  {
   "cell_type": "markdown",
   "metadata": {},
   "source": [
    "Below we illustrate the execution of the Open AI gym enviornment using the policy of chosing random action in every state. Every time an action is taken the enviorment returns a tuple containing next state, reward, and the status (whether terminal state is reached or not). "
   ]
  },
  {
   "cell_type": "code",
   "execution_count": 4,
   "metadata": {},
   "outputs": [],
   "source": [
    "### RANDOM SAMPLING EXAMPLE\n",
    "num_episodes=1000; #number of episodes you want to try\n",
    "episode_max_length=100; #you can explicitly end the episode before terminal state is reached\n",
    "\n",
    "env.reset()\n",
    "#env.render()\n",
    "#execute in episodes\n",
    "for i in range(num_episodes):\n",
    "    \n",
    "    #reset the environment at the beginning of an episode\n",
    "    s = env.reset()\n",
    "    d = False #not done\n",
    "    \n",
    "    for t in range(episode_max_length):\n",
    "        \n",
    "        ################ Random action policy ###########################\n",
    "        #play random action \n",
    "        a = env.action_space.sample()\n",
    "        #get new state, reward, done\n",
    "        s, r, d, _ = env.step(a)\n",
    "        #################################################################\n",
    "        \n",
    "        \n",
    "        #break if done, reached terminal state \n",
    "        if d == True:\n",
    "            break\n",
    "    \n",
    "    \n",
    "    #log per-episode reward and moving average over 100 episodes\n",
    "    # wandb.log({ \"random reward\" : rEpisode, \"random reward moving average\" : movingAverage, \"random episode\" : i})"
   ]
  },
  {
   "cell_type": "markdown",
   "metadata": {},
   "source": [
    "Implement tabular Q-learning (*YOU SHOULD ONLY CHANGE THE CELL BELOW*)"
   ]
  },
  {
   "cell_type": "code",
   "execution_count": 5,
   "metadata": {},
   "outputs": [],
   "source": [
    "\"\"\"\n",
    "desert_totem813 was a good run\n",
    "\n",
    "ideas:\n",
    "\n",
    "gamma: \n",
    "    high gamma: bot looks far into future is good bc rewards are sparse\n",
    "\n",
    "alpha: \n",
    "    decays as the robot learns i.e. with more episodes\n",
    "\n",
    "penalty for falling in the ice:\n",
    "    fixes sparseness problems, but environment may be too stochastic\n",
    "    code:\n",
    "        if d==True and s1 != 15:\n",
    "        r = - penalty_value\n",
    "\"\"\"\n",
    "\n",
    "#initialize episodic structure\n",
    "init()\n",
    "num_episodes=1000; #init 1000\n",
    "episode_max_length=100; #init 100\n",
    "\n",
    "def gamma(i, g=.95):\n",
    "    return g\n",
    "\n",
    "def alpha(i, learnRate=0.8): \n",
    "    # 1, .99, .98, .97 ,...., 0\n",
    "    return 1 - ((i) / num_episodes)\n",
    "    \n",
    "def epsilon(i):\n",
    "    return 1 - ((i) / num_episodes)\n",
    "    # return 1 / np.sqrt(i+1)\n",
    "    \n",
    "Q=np.zeros([env.observation_space.n,env.action_space.n]) #Q(s,a). The Q-values from this array will be used to evaluate your policy.\n",
    "n=np.ones([env.observation_space.n,env.action_space.n])  # recording number of trails for each arm\n",
    "\n",
    "for i in range(num_episodes):\n",
    "    #reset the environment at the beginning of an episode\n",
    "    s = env.reset()\n",
    "    d = False #not done\n",
    "    \n",
    "    learning_rate = alpha(i)\n",
    "    discount = gamma(i)\n",
    "    exploration = epsilon(i)\n",
    "    \n",
    "    for t in range(episode_max_length):\n",
    "        \n",
    "        \"\"\" \n",
    "        epsilon decision \n",
    "        exploration incentive decays as episodes increase bc Q values converge\n",
    "        want e s.t. e-greedy -> greedy as i -> inf\n",
    "        i.e.\n",
    "        want e s.t. e~~0 when i == num_episodes\n",
    "        \"\"\"\n",
    "        p = np.random.rand()\n",
    "        if p < exploration:\n",
    "            a = env.action_space.sample()\n",
    "        else:\n",
    "            a = np.argmax(Q[s,:])\n",
    "        \n",
    "        #get new state, reward, done\n",
    "        s1, r, d, info = env.step(a)\n",
    "        \n",
    "        # lets penalize the holes\n",
    "        if d==True and s1 != 15:\n",
    "            r = - 1\n",
    "        \n",
    "        ##### update Q(s,a) ############\n",
    "        delta = r + discount*max(Q[s1,:]) - Q[s,a]\n",
    "        Q_update = Q[s,a] + learning_rate*delta\n",
    "        Q[s,a] = Q_update\n",
    "        \n",
    "        #break if done, reached terminal state \n",
    "        if d == True:\n",
    "            break\n",
    "        s=s1\n",
    "        \n",
    "    #log per-episode reward and moving average over 100 episodes\n",
    "    wandb.log({ \"training reward\" : rEpisode, \"training reward moving average\" : movingAverage, \"training episode\" : i})\n",
    "wandb.run.summary[\"number of training episodes\"]=num_episodes"
   ]
  },
  {
   "cell_type": "code",
   "execution_count": 6,
   "metadata": {
    "scrolled": false
   },
   "outputs": [
    {
     "data": {
      "text/html": [
       "<iframe src=\"https://wandb.ai/ieor-4575/lab1/runs/8a16sh37?jupyter=true\" style=\"border:none;width:100%;height:420px\">\n",
       "                </iframe>"
      ],
      "text/plain": [
       "<wandb.jupyter.Run at 0x7fbddad693c8>"
      ]
     },
     "metadata": {},
     "output_type": "display_data"
    }
   ],
   "source": [
    "%%wandb\n",
    "## DO NOT CHANGE THIS CELL. CHANGING ANY PART OF THIS CELL CAN DISQUALIFY THE SUBMISSION\n",
    "#Evaluation of trained policy\n",
    "init()\n",
    "num_episodes=1000; #number of episodes for evaluation\n",
    "episode_max_length=100; \n",
    "movingAverageArray=[]\n",
    "score=0\n",
    "env.reset()\n",
    "for i in range(num_episodes):\n",
    "    s = env.reset()\n",
    "    d = False #not done\n",
    "    for t in range(episode_max_length):\n",
    "        a = np.argmax(Q[s,:])\n",
    "        s, r, d, _ = env.step(a)\n",
    "        if d == True:\n",
    "            break\n",
    "    #log per-episode reward and moving average over 100 episodes\n",
    "    wandb.log({ \"evaluation reward\" : rEpisode, \"evaluation reward moving average\" : movingAverage, \"evaluation episode\" : i})\n",
    "    movingAverageArray.append(movingAverage)\n",
    "    #score is x if there is a window of 100 consecutive episodes where moving average was at least x\n",
    "    if i>100:\n",
    "        score=max(score,min(movingAverageArray[i-100:i-1]))\n",
    "\n",
    "\n",
    "wandb.run.summary[\"score\"]=score "
   ]
  },
  {
   "cell_type": "code",
   "execution_count": 7,
   "metadata": {},
   "outputs": [
    {
     "name": "stdout",
     "output_type": "stream",
     "text": [
      "0.7575757575757576\n"
     ]
    }
   ],
   "source": [
    "print(score)"
   ]
  },
  {
   "cell_type": "code",
   "execution_count": 8,
   "metadata": {},
   "outputs": [
    {
     "data": {
      "text/html": [
       "<br/>Waiting for W&B process to finish, PID 15949<br/>Program ended successfully."
      ],
      "text/plain": [
       "<IPython.core.display.HTML object>"
      ]
     },
     "metadata": {},
     "output_type": "display_data"
    },
    {
     "data": {
      "text/html": [
       "Find user logs for this run at: <code>/Users/erikskalnes/Desktop/spring2021/rl/lab1/IEOR4575_Labs-main/labs/lab1/wandb/run-20210221_225604-8a16sh37/logs/debug.log</code>"
      ],
      "text/plain": [
       "<IPython.core.display.HTML object>"
      ]
     },
     "metadata": {},
     "output_type": "display_data"
    },
    {
     "data": {
      "text/html": [
       "Find internal logs for this run at: <code>/Users/erikskalnes/Desktop/spring2021/rl/lab1/IEOR4575_Labs-main/labs/lab1/wandb/run-20210221_225604-8a16sh37/logs/debug-internal.log</code>"
      ],
      "text/plain": [
       "<IPython.core.display.HTML object>"
      ]
     },
     "metadata": {},
     "output_type": "display_data"
    },
    {
     "data": {
      "text/html": [
       "<h3>Run summary:</h3><br/><style>\n",
       "    table.wandb td:nth-child(1) { padding: 0 10px; text-align: right }\n",
       "    </style><table class=\"wandb\">\n",
       "<tr><td>training reward</td><td>0.0</td></tr><tr><td>training reward moving average</td><td>0.55556</td></tr><tr><td>training episode</td><td>999</td></tr><tr><td>_step</td><td>1999</td></tr><tr><td>_runtime</td><td>3</td></tr><tr><td>_timestamp</td><td>1613966167</td></tr><tr><td>number of training episodes</td><td>1000</td></tr><tr><td>evaluation reward</td><td>1.0</td></tr><tr><td>evaluation reward moving average</td><td>0.72727</td></tr><tr><td>evaluation episode</td><td>999</td></tr><tr><td>score</td><td>0.75758</td></tr></table>"
      ],
      "text/plain": [
       "<IPython.core.display.HTML object>"
      ]
     },
     "metadata": {},
     "output_type": "display_data"
    },
    {
     "data": {
      "text/html": [
       "<h3>Run history:</h3><br/><style>\n",
       "    table.wandb td:nth-child(1) { padding: 0 10px; text-align: right }\n",
       "    </style><table class=\"wandb\">\n",
       "<tr><td>training reward</td><td>▁▁▁▁▁▁▁▁▁▁▁▁▁▁█▁▁▁▁▁▁▁▁▁▁▁▁▁▁▁▁▁▁▁▁▁▁▁▁█</td></tr><tr><td>training reward moving average</td><td>▁▁▁▁▁▁▁▁▁▂▂▁▁▁▁▁▁▂▁▂▁▁▁▂▂▂▃▃▃▃▃▄▄▄▄▄▅▆▇█</td></tr><tr><td>training episode</td><td>▁▁▁▂▂▂▂▂▂▃▃▃▃▃▄▄▄▄▄▄▅▅▅▅▅▅▆▆▆▆▆▇▇▇▇▇▇███</td></tr><tr><td>_step</td><td>▁▁▁▂▂▂▂▂▂▃▃▃▃▃▄▄▄▄▄▄▅▅▅▅▅▅▆▆▆▆▆▇▇▇▇▇▇███</td></tr><tr><td>_runtime</td><td>▁▁▁▁▁▁▁▁▁▁▁▁▁▁▁▁▁▁▁▁▁▁▁█████████████████</td></tr><tr><td>_timestamp</td><td>▁▁▁▁▁▁▁▁▁▁▁▁▁▁▁▁▁▁▁▁▁▁▁█████████████████</td></tr><tr><td>evaluation reward</td><td>▁██▁█▁█▁████▁▁█▁███▁████████▁▁█████████▁</td></tr><tr><td>evaluation reward moving average</td><td>▁▅▆▇▇▇▇██▇▆▆▇█▆▇▅▅▆▅▅▅▆▇▇▇▆▆▇▆▆▆▆▅▇▇▅▆▆▅</td></tr><tr><td>evaluation episode</td><td>▁▁▁▂▂▂▂▂▂▃▃▃▃▃▄▄▄▄▄▄▅▅▅▅▅▅▆▆▆▆▆▇▇▇▇▇▇███</td></tr></table><br/>"
      ],
      "text/plain": [
       "<IPython.core.display.HTML object>"
      ]
     },
     "metadata": {},
     "output_type": "display_data"
    },
    {
     "data": {
      "text/html": [
       "Synced 5 W&B file(s), 0 media file(s), 0 artifact file(s) and 0 other file(s)"
      ],
      "text/plain": [
       "<IPython.core.display.HTML object>"
      ]
     },
     "metadata": {},
     "output_type": "display_data"
    },
    {
     "data": {
      "text/html": [
       "\n",
       "                    <br/>Synced <strong style=\"color:#cdcd00\">stellar-music-910</strong>: <a href=\"https://wandb.ai/ieor-4575/lab1/runs/8a16sh37\" target=\"_blank\">https://wandb.ai/ieor-4575/lab1/runs/8a16sh37</a><br/>\n",
       "                "
      ],
      "text/plain": [
       "<IPython.core.display.HTML object>"
      ]
     },
     "metadata": {},
     "output_type": "display_data"
    }
   ],
   "source": [
    "run.finish()"
   ]
  },
  {
   "cell_type": "markdown",
   "metadata": {},
   "source": []
  }
 ],
 "metadata": {
  "kernelspec": {
   "name": "python3",
   "display_name": "Python 3.8.5 64-bit"
  },
  "language_info": {
   "codemirror_mode": {
    "name": "ipython",
    "version": 3
   },
   "file_extension": ".py",
   "mimetype": "text/x-python",
   "name": "python",
   "nbconvert_exporter": "python",
   "pygments_lexer": "ipython3",
   "version": "3.8.5-final"
  }
 },
 "nbformat": 4,
 "nbformat_minor": 1
}