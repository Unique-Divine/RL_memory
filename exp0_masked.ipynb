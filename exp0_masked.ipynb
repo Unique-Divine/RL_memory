{
 "cells": [
  {
   "cell_type": "markdown",
   "metadata": {
    "toc": true
   },
   "source": [
    "<h1>Contents<span class=\"tocSkip\"></span></h1>\n",
    "<div class=\"toc\"><ul class=\"toc-item\"></ul></div>"
   ]
  },
  {
   "cell_type": "code",
   "execution_count": 6,
   "metadata": {},
   "outputs": [],
   "source": [
    "try:\n",
    "    import rl_memory\n",
    "except:\n",
    "    exec(open('__init__.py').read()) \n",
    "    import rl_memory\n",
    "\n",
    "import torch\n",
    "from rl_memory.custom_env import environment\n",
    "from rl_memory.custom_env import agent\n",
    "from rl_memory.tests import test_environment\n",
    "import pickle \n",
    "import numpy as np \n",
    "import matplotlib.pyplot as plt\n",
    "import os"
   ]
  },
  {
   "cell_type": "code",
   "execution_count": 7,
   "metadata": {},
   "outputs": [
    {
     "data": {
      "text/plain": [
       "'C:\\\\Users\\\\uniqu\\\\Adaptation\\\\github repos\\\\RL_memory'"
      ]
     },
     "execution_count": 7,
     "metadata": {},
     "output_type": "execute_result"
    }
   ],
   "source": [
    "os.getcwd()"
   ]
  },
  {
   "cell_type": "code",
   "execution_count": 9,
   "metadata": {},
   "outputs": [],
   "source": [
    "def load_pickle_object(dir_path, file) -> object:\n",
    "    with open(os.path.join(dir_path, file), \"rb\") as fp:\n",
    "        obj = pickle.load(fp)\n",
    "    return obj\n",
    "\n",
    "# Loads 30,000 trajectories from training\n",
    "erik_trajs = load_pickle_object(\n",
    "    dir_path = os.path.join(\"rl_memory\", \"erik\"),\n",
    "    file = \"last_trajectory.p\")"
   ]
  },
  {
   "cell_type": "code",
   "execution_count": 15,
   "metadata": {},
   "outputs": [],
   "source": [
    "type(erik_trajs[0][0])\n",
    "SIGHT_DISTANCE = 4\n",
    "# environment.Observation(env = , \n",
    "#                         agent = agent.Agent(SIGHT_DISTANCE))"
   ]
  },
  {
   "cell_type": "code",
   "execution_count": 26,
   "metadata": {},
   "outputs": [
    {
     "name": "stdout",
     "output_type": "stream",
     "text": [
      "yuh\n"
     ]
    }
   ],
   "source": [
    "if erik_trajs[0][0] is not None:\n",
    "    print('yuh')\n",
    "else:\n",
    "    print('no')"
   ]
  }
 ],
 "metadata": {
  "kernelspec": {
   "display_name": "Python (ds_env)",
   "language": "python",
   "name": "ds_env"
  },
  "language_info": {
   "codemirror_mode": {
    "name": "ipython",
    "version": 3
   },
   "file_extension": ".py",
   "mimetype": "text/x-python",
   "name": "python",
   "nbconvert_exporter": "python",
   "pygments_lexer": "ipython3",
   "version": "3.8.5"
  },
  "toc": {
   "base_numbering": 1,
   "nav_menu": {},
   "number_sections": true,
   "sideBar": true,
   "skip_h1_title": true,
   "title_cell": "Contents",
   "title_sidebar": "Contents",
   "toc_cell": true,
   "toc_position": {},
   "toc_section_display": true,
   "toc_window_display": false
  }
 },
 "nbformat": 4,
 "nbformat_minor": 4
}
